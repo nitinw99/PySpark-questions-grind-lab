{
 "cells": [
  {
   "cell_type": "code",
   "execution_count": 0,
   "metadata": {
    "application/vnd.databricks.v1+cell": {
     "cellMetadata": {
      "byteLimit": 2048000,
      "rowLimit": 10000
     },
     "inputWidgets": {},
     "nuid": "be8f0c9e-3cd7-45aa-95bb-a4b54af08884",
     "showTitle": true,
     "tableResultSettingsMap": {},
     "title": "Create Dataset"
    }
   },
   "outputs": [
    {
     "output_type": "stream",
     "name": "stdout",
     "output_type": "stream",
     "text": [
      "+---+-------------+\n| id|         name|\n+---+-------------+\n|  1|abc@gmail.com|\n|  2|def@gmail.com|\n|  1|abc@gmail.com|\n+---+-------------+\n\n"
     ]
    }
   ],
   "source": [
    "# find duplicate records\n",
    "# remove duplicate records\n",
    "\n",
    "\n",
    "data =[(1,'abc@gmail.com'),(2,'def@gmail.com'),(1,'abc@gmail.com')]\n",
    "column=['id','name']\n",
    "\n",
    "df =spark.createDataFrame(data,column)\n",
    "df.show()"
   ]
  },
  {
   "cell_type": "code",
   "execution_count": 0,
   "metadata": {
    "application/vnd.databricks.v1+cell": {
     "cellMetadata": {
      "byteLimit": 2048000,
      "rowLimit": 10000
     },
     "inputWidgets": {},
     "nuid": "ddfb5d6d-30f6-4085-9fe4-6a4650f66553",
     "showTitle": true,
     "tableResultSettingsMap": {},
     "title": "Print Duplicate Records"
    }
   },
   "outputs": [
    {
     "output_type": "display_data",
     "data": {
      "text/html": [
       "<style scoped>\n",
       "  .table-result-container {\n",
       "    max-height: 300px;\n",
       "    overflow: auto;\n",
       "  }\n",
       "  table, th, td {\n",
       "    border: 1px solid black;\n",
       "    border-collapse: collapse;\n",
       "  }\n",
       "  th, td {\n",
       "    padding: 5px;\n",
       "  }\n",
       "  th {\n",
       "    text-align: left;\n",
       "  }\n",
       "</style><div class='table-result-container'><table class='table-result'><thead style='background-color: white'><tr><th>id</th><th>name</th><th>count</th></tr></thead><tbody><tr><td>1</td><td>abc@gmail.com</td><td>2</td></tr></tbody></table></div>"
      ]
     },
     "metadata": {
      "application/vnd.databricks.v1+output": {
       "addedWidgets": {},
       "aggData": [],
       "aggError": "",
       "aggOverflow": false,
       "aggSchema": [],
       "aggSeriesLimitReached": false,
       "aggType": "",
       "arguments": {},
       "columnCustomDisplayInfos": {},
       "data": [
        [
         1,
         "abc@gmail.com",
         2
        ]
       ],
       "datasetInfos": [],
       "dbfsResultPath": null,
       "isJsonSchema": true,
       "metadata": {},
       "overflow": false,
       "plotOptions": {
        "customPlotOptions": {},
        "displayType": "table",
        "pivotAggregation": null,
        "pivotColumns": null,
        "xColumns": null,
        "yColumns": null
       },
       "removedWidgets": [],
       "schema": [
        {
         "metadata": "{}",
         "name": "id",
         "type": "\"long\""
        },
        {
         "metadata": "{}",
         "name": "name",
         "type": "\"string\""
        },
        {
         "metadata": "{}",
         "name": "count",
         "type": "\"long\""
        }
       ],
       "type": "table"
      }
     },
     "output_type": "display_data"
    }
   ],
   "source": [
    "from pyspark.sql.functions import count, col\n",
    "\n",
    "display(df.groupBy(\"id\",\"name\").count().filter(col(\"count\")>1))\n",
    "\n"
   ]
  },
  {
   "cell_type": "code",
   "execution_count": 0,
   "metadata": {
    "application/vnd.databricks.v1+cell": {
     "cellMetadata": {
      "byteLimit": 2048000,
      "rowLimit": 10000
     },
     "inputWidgets": {},
     "nuid": "76e92e0f-5152-4596-918b-255c4209db2e",
     "showTitle": true,
     "tableResultSettingsMap": {},
     "title": "Using SQL"
    }
   },
   "outputs": [],
   "source": [
    "df.createOrReplaceTempView(\"myDataset\")\n",
    "\n"
   ]
  },
  {
   "cell_type": "code",
   "execution_count": 0,
   "metadata": {
    "application/vnd.databricks.v1+cell": {
     "cellMetadata": {
      "byteLimit": 2048000,
      "implicitDf": true,
      "rowLimit": 10000
     },
     "inputWidgets": {},
     "nuid": "424dc775-b523-4380-8c94-01af6ba2ed66",
     "showTitle": false,
     "tableResultSettingsMap": {},
     "title": ""
    }
   },
   "outputs": [
    {
     "output_type": "display_data",
     "data": {
      "text/html": [
       "<style scoped>\n",
       "  .table-result-container {\n",
       "    max-height: 300px;\n",
       "    overflow: auto;\n",
       "  }\n",
       "  table, th, td {\n",
       "    border: 1px solid black;\n",
       "    border-collapse: collapse;\n",
       "  }\n",
       "  th, td {\n",
       "    padding: 5px;\n",
       "  }\n",
       "  th {\n",
       "    text-align: left;\n",
       "  }\n",
       "</style><div class='table-result-container'><table class='table-result'><thead style='background-color: white'><tr><th>id</th><th>name</th><th>count(1)</th></tr></thead><tbody><tr><td>1</td><td>abc@gmail.com</td><td>2</td></tr></tbody></table></div>"
      ]
     },
     "metadata": {
      "application/vnd.databricks.v1+output": {
       "addedWidgets": {},
       "aggData": [],
       "aggError": "",
       "aggOverflow": false,
       "aggSchema": [],
       "aggSeriesLimitReached": false,
       "aggType": "",
       "arguments": {},
       "columnCustomDisplayInfos": {},
       "data": [
        [
         1,
         "abc@gmail.com",
         2
        ]
       ],
       "datasetInfos": [],
       "dbfsResultPath": null,
       "isJsonSchema": true,
       "metadata": {},
       "overflow": false,
       "plotOptions": {
        "customPlotOptions": {},
        "displayType": "table",
        "pivotAggregation": null,
        "pivotColumns": null,
        "xColumns": null,
        "yColumns": null
       },
       "removedWidgets": [],
       "schema": [
        {
         "metadata": "{}",
         "name": "id",
         "type": "\"long\""
        },
        {
         "metadata": "{}",
         "name": "name",
         "type": "\"string\""
        },
        {
         "metadata": "{\"__autoGeneratedAlias\":\"true\"}",
         "name": "count(1)",
         "type": "\"long\""
        }
       ],
       "type": "table"
      }
     },
     "output_type": "display_data"
    }
   ],
   "source": [
    "%sql\n",
    "select id, name, count(*)\n",
    "from myDataset\n",
    "group by 1,2\n",
    "having count(*)>1"
   ]
  },
  {
   "cell_type": "code",
   "execution_count": 0,
   "metadata": {
    "application/vnd.databricks.v1+cell": {
     "cellMetadata": {
      "byteLimit": 2048000,
      "rowLimit": 10000
     },
     "inputWidgets": {},
     "nuid": "f3996c27-c9ae-4f00-9839-5109e908e82c",
     "showTitle": true,
     "tableResultSettingsMap": {},
     "title": "remove duplicate records"
    }
   },
   "outputs": [
    {
     "output_type": "stream",
     "name": "stdout",
     "output_type": "stream",
     "text": [
      "+---+-------------+\n| id|         name|\n+---+-------------+\n|  1|abc@gmail.com|\n|  2|def@gmail.com|\n+---+-------------+\n\n"
     ]
    }
   ],
   "source": [
    "df.distinct().show()"
   ]
  },
  {
   "cell_type": "markdown",
   "metadata": {
    "application/vnd.databricks.v1+cell": {
     "cellMetadata": {},
     "inputWidgets": {},
     "nuid": "00e7a556-a412-4394-8f48-c61150c153b4",
     "showTitle": false,
     "tableResultSettingsMap": {},
     "title": ""
    }
   },
   "source": [
    "Q2"
   ]
  },
  {
   "cell_type": "code",
   "execution_count": 0,
   "metadata": {
    "application/vnd.databricks.v1+cell": {
     "cellMetadata": {
      "byteLimit": 2048000,
      "rowLimit": 10000
     },
     "inputWidgets": {},
     "nuid": "ecc41409-d9ec-480e-a8a4-1e6986f8ca9f",
     "showTitle": true,
     "tableResultSettingsMap": {},
     "title": "Dataset"
    }
   },
   "outputs": [],
   "source": [
    "customer_data=[(1,'Manish'),(2,'Rahul'),(3,'Monu'),(4,'Ram')]\n",
    "schema=[\"Customer_ID\", \"Customer_Name\"]\n",
    "\n",
    "order_data=[(1,4),(3,2)]\n",
    "schema1=[\"Order_ID\", \"Customer_ID\"]"
   ]
  },
  {
   "cell_type": "code",
   "execution_count": 0,
   "metadata": {
    "application/vnd.databricks.v1+cell": {
     "cellMetadata": {
      "byteLimit": 2048000,
      "rowLimit": 10000
     },
     "inputWidgets": {},
     "nuid": "2a1713d5-e2fe-43ff-a67d-dfe1b36089f8",
     "showTitle": false,
     "tableResultSettingsMap": {},
     "title": ""
    }
   },
   "outputs": [
    {
     "output_type": "stream",
     "name": "stdout",
     "output_type": "stream",
     "text": [
      "+-----------+-------------+\n|Customer_ID|Customer_Name|\n+-----------+-------------+\n|          1|       Manish|\n|          2|        Rahul|\n|          3|         Monu|\n|          4|          Ram|\n+-----------+-------------+\n\n+--------+-----------+\n|Order_ID|Customer_ID|\n+--------+-----------+\n|       1|          4|\n|       3|          2|\n+--------+-----------+\n\n"
     ]
    }
   ],
   "source": [
    "customer_df = spark.createDataFrame(customer_data, schema)\n",
    "order_df = spark.createDataFrame(order_data, schema1)\n",
    "\n",
    "customer_df.show()\n",
    "\n",
    "order_df.show()"
   ]
  },
  {
   "cell_type": "code",
   "execution_count": 0,
   "metadata": {
    "application/vnd.databricks.v1+cell": {
     "cellMetadata": {
      "byteLimit": 2048000,
      "rowLimit": 10000
     },
     "inputWidgets": {},
     "nuid": "eff67858-b589-4137-b0a7-a2abf2cd3d9d",
     "showTitle": true,
     "tableResultSettingsMap": {},
     "title": "Customers who have not ordered anything"
    }
   },
   "outputs": [
    {
     "output_type": "stream",
     "name": "stdout",
     "output_type": "stream",
     "text": [
      "+-----------+-------------+\n|Customer_ID|Customer_Name|\n+-----------+-------------+\n|          1|       Manish|\n|          3|         Monu|\n+-----------+-------------+\n\n"
     ]
    }
   ],
   "source": [
    "df_joined = customer_df.join(order_df, customer_df.Customer_ID==order_df.Customer_ID,\"left\").select(customer_df.Customer_ID, customer_df.Customer_Name).filter(order_df.Order_ID.isNull())\n",
    "\n",
    "df_joined.show()"
   ]
  },
  {
   "cell_type": "code",
   "execution_count": 0,
   "metadata": {
    "application/vnd.databricks.v1+cell": {
     "cellMetadata": {
      "byteLimit": 2048000,
      "rowLimit": 10000
     },
     "inputWidgets": {},
     "nuid": "a8ad0447-404c-43b9-aac1-5d1137288237",
     "showTitle": true,
     "tableResultSettingsMap": {},
     "title": "Customers who have ordered anything ( atleast one order)"
    }
   },
   "outputs": [
    {
     "output_type": "stream",
     "name": "stdout",
     "output_type": "stream",
     "text": [
      "+-----------+-------------+\n|Customer_ID|Customer_Name|\n+-----------+-------------+\n|          2|        Rahul|\n|          4|          Ram|\n+-----------+-------------+\n\n"
     ]
    }
   ],
   "source": [
    "df_joined = customer_df.join(order_df, customer_df.Customer_ID==order_df.Customer_ID,\"inner\").select(customer_df.Customer_ID, customer_df.Customer_Name)\n",
    "\n",
    "df_joined.show()"
   ]
  },
  {
   "cell_type": "markdown",
   "metadata": {
    "application/vnd.databricks.v1+cell": {
     "cellMetadata": {},
     "inputWidgets": {},
     "nuid": "7e873f40-a2fe-4646-a089-f7ecf275093e",
     "showTitle": false,
     "tableResultSettingsMap": {},
     "title": ""
    }
   },
   "source": [
    "Q3"
   ]
  },
  {
   "cell_type": "code",
   "execution_count": 0,
   "metadata": {
    "application/vnd.databricks.v1+cell": {
     "cellMetadata": {
      "byteLimit": 2048000,
      "rowLimit": 10000
     },
     "inputWidgets": {},
     "nuid": "7a27e120-a155-4e6a-951c-ac2559c34bc0",
     "showTitle": false,
     "tableResultSettingsMap": {},
     "title": ""
    }
   },
   "outputs": [],
   "source": [
    "emp_data=[('Manish' , 1 , 75000),\n",
    "('Raghav' , 1 , 85000 ),\n",
    "('surya' , 1 , 80000 ),\n",
    "('virat' , 2 , 70000),\n",
    "('rohit' , 2 , 75000),\n",
    "('jadeja' , 3 , 85000),\n",
    "('anil' , 3 , 55000),\n",
    "('sachin' , 3 , 55000),  \n",
    "('zahir', 4, 60000),\n",
    "('bumrah' , 4 , 65000) ]\n",
    "schema= [\"emp_name\" ,\"dept_id\" ,\"salary\"]\n",
    "\n",
    "dept_data = [(1, 'DATA ENGINEER'),(2, 'SALES'),(3, 'SOFTWARE'),(4, 'HR')]\n",
    "schema1=['dept_id','dept_name']"
   ]
  },
  {
   "cell_type": "code",
   "execution_count": 0,
   "metadata": {
    "application/vnd.databricks.v1+cell": {
     "cellMetadata": {
      "byteLimit": 2048000,
      "rowLimit": 10000
     },
     "inputWidgets": {},
     "nuid": "ad52443d-a12a-49ce-8be4-98a69b0ca29f",
     "showTitle": false,
     "tableResultSettingsMap": {},
     "title": ""
    }
   },
   "outputs": [
    {
     "output_type": "stream",
     "name": "stdout",
     "output_type": "stream",
     "text": [
      "+--------+-------+------+\n|emp_name|dept_id|salary|\n+--------+-------+------+\n|  Manish|      1| 75000|\n|  Raghav|      1| 85000|\n|   surya|      1| 80000|\n|   virat|      2| 70000|\n|   rohit|      2| 75000|\n+--------+-------+------+\nonly showing top 5 rows\n\n+-------+-------------+\n|dept_id|    dept_name|\n+-------+-------------+\n|      1|DATA ENGINEER|\n|      2|        SALES|\n|      3|     SOFTWARE|\n|      4|           HR|\n+-------+-------------+\n\n"
     ]
    }
   ],
   "source": [
    "emp_df = spark.createDataFrame(emp_data, schema)\n",
    "emp_df.show(5)\n",
    "\n",
    "\n",
    "dept_df = spark.createDataFrame(dept_data, schema1)\n",
    "dept_df.show(5)\n"
   ]
  },
  {
   "cell_type": "code",
   "execution_count": 0,
   "metadata": {
    "application/vnd.databricks.v1+cell": {
     "cellMetadata": {
      "byteLimit": 2048000,
      "rowLimit": 10000
     },
     "inputWidgets": {},
     "nuid": "48d93a65-2b4a-4d32-b6f3-d6723c29138e",
     "showTitle": false,
     "tableResultSettingsMap": {},
     "title": ""
    }
   },
   "outputs": [],
   "source": [
    "from pyspark.sql.functions import max"
   ]
  },
  {
   "cell_type": "code",
   "execution_count": 0,
   "metadata": {
    "application/vnd.databricks.v1+cell": {
     "cellMetadata": {
      "byteLimit": 2048000,
      "rowLimit": 10000
     },
     "inputWidgets": {},
     "nuid": "5da57ead-b64f-422c-af49-c426b10cc36e",
     "showTitle": true,
     "tableResultSettingsMap": {},
     "title": "Highest salary based on each dept"
    }
   },
   "outputs": [
    {
     "output_type": "stream",
     "name": "stdout",
     "output_type": "stream",
     "text": [
      "+-------------+-------+\n|    dept_name|max_sal|\n+-------------+-------+\n|DATA ENGINEER|  85000|\n|        SALES|  75000|\n|     SOFTWARE|  85000|\n|           HR|  65000|\n+-------------+-------+\n\n"
     ]
    }
   ],
   "source": [
    "df_joined = emp_df.join(dept_df, emp_df.dept_id==dept_df.dept_id, \"left\")\n",
    "                \n",
    "df_joined_res = df_joined.groupBy(\"dept_name\").agg(max(\"salary\").alias(\"max_sal\"))\n",
    "\n",
    "\n",
    "df_joined_res.show()"
   ]
  },
  {
   "cell_type": "code",
   "execution_count": 0,
   "metadata": {
    "application/vnd.databricks.v1+cell": {
     "cellMetadata": {
      "byteLimit": 2048000,
      "rowLimit": 10000
     },
     "inputWidgets": {},
     "nuid": "e1e592b4-e28e-4a3a-957d-8da0be45af26",
     "showTitle": true,
     "tableResultSettingsMap": {},
     "title": "FIND THE EMPLOYEE WHO IS GETTING HIGHEST SALARY BASED ON EACH DEPARTMENT NAME"
    }
   },
   "outputs": [
    {
     "output_type": "stream",
     "name": "stdout",
     "output_type": "stream",
     "text": [
      "+--------+-------+------+-------+-------------+-------------+-------+\n|emp_name|dept_id|salary|dept_id|    dept_name|    dept_name|max_sal|\n+--------+-------+------+-------+-------------+-------------+-------+\n|  Raghav|      1| 85000|      1|DATA ENGINEER|DATA ENGINEER|  85000|\n|   rohit|      2| 75000|      2|        SALES|        SALES|  75000|\n|  jadeja|      3| 85000|      3|     SOFTWARE|     SOFTWARE|  85000|\n|  bumrah|      4| 65000|      4|           HR|           HR|  65000|\n+--------+-------+------+-------+-------------+-------------+-------+\n\n"
     ]
    }
   ],
   "source": [
    "df_res = df_joined.join(df_joined_res, df_joined.dept_name==df_joined_res.dept_name, \"left\")\\\n",
    "                    .filter(col(\"salary\")==col(\"max_sal\"))\n",
    "\n",
    "df_res.show()"
   ]
  }
 ],
 "metadata": {
  "application/vnd.databricks.v1+notebook": {
   "dashboards": [],
   "environmentMetadata": null,
   "language": "python",
   "notebookMetadata": {
    "mostRecentlyExecutedCommandWithImplicitDF": {
     "commandId": 2623742984271716,
     "dataframes": [
      "_sqldf"
     ]
    },
    "pythonIndentUnit": 2
   },
   "notebookName": "Pyspark Quick Interview Qs",
   "widgets": {}
  }
 },
 "nbformat": 4,
 "nbformat_minor": 0
}
